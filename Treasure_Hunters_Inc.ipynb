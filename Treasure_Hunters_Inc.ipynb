{
 "cells": [
  {
   "cell_type": "markdown",
   "metadata": {},
   "source": [
    "# Treasure Hunters Inc."
   ]
  },
  {
   "cell_type": "markdown",
   "metadata": {},
   "source": [
    "The goal of this project is to use reinforcement learning in a grid environment to avoid obstacles and reach the goal. This is done defining cost and reward functions with **Markov Decision Processes (MDP)**  "
   ]
  },
  {
   "cell_type": "code",
   "execution_count": null,
   "metadata": {},
   "outputs": [],
   "source": [
    "Recall the basic ideas of Reinforcement Learning:\n",
    "\n",
    "## Basic idea:\n",
    "\n",
    "* Receive feedback in the form of rewards\n",
    "* Agent’s utility is defined by the reward function\n",
    "* Must (learn to) act so as to maximize expected rewards "
   ]
  },
  {
   "cell_type": "code",
   "execution_count": null,
   "metadata": {},
   "outputs": [],
   "source": [
    "## Grid World\n",
    "\n",
    "* The agent lives in a grid\n",
    "* Walls block the agent’s path\n",
    "* The agent’s actions do not always go as planned\n",
    "* Small rewards at each step\n",
    "* Big rewards come at the end\n",
    "* Goal: maximize sum of rewards"
   ]
  },
  {
   "cell_type": "code",
   "execution_count": null,
   "metadata": {},
   "outputs": [],
   "source": [
    "We will make use of **Markov Decision Processes**.\n",
    "\n",
    "## Markov Decision Processes\n",
    "\n",
    "\n",
    "* An MDP is defined by:\n",
    "    * A set of states s ∈ S\n",
    "    * A set of actions a ∈ A\n",
    "    * A **transition function** T(s,a,s’)\n",
    "    * A **reward function** R(s, a, s’)\n",
    "    * A **start state** (or distribution)\n",
    "    * A **terminal state** "
   ]
  },
  {
   "cell_type": "markdown",
   "metadata": {},
   "source": [
    "First we import all the libraries that we will use in this example."
   ]
  },
  {
   "cell_type": "code",
   "execution_count": 1,
   "metadata": {},
   "outputs": [],
   "source": [
    "import numpy as np\n",
    "import matplotlib.pyplot as plt\n",
    "import numpy as np\n",
    "import matplotlib.pyplot as plt\n",
    "import cv2"
   ]
  },
  {
   "cell_type": "markdown",
   "metadata": {},
   "source": [
    "Now we need to define all the above functions and probabilities. In order to do that, we define a class  called **GridWorldMDP**. With it we can define a function of the dollowing parameters:\n",
    "\n",
    "* reward_grid,\n",
    "* terminal_mask,\n",
    "* obstacle_mask,\n",
    "* action_probabilities,\n",
    "* no_action_probability\n",
    "\n",
    "With them we run a **Markov Decision Processes** below."
   ]
  },
  {
   "cell_type": "code",
   "execution_count": 2,
   "metadata": {},
   "outputs": [],
   "source": [
    "class GridWorldMDP:\n",
    "\n",
    "    # up, right, down, left\n",
    "    _direction_deltas = [\n",
    "        (-1, 0),\n",
    "        (0, 1),\n",
    "        (1, 0),\n",
    "        (0, -1),\n",
    "    ]\n",
    "    _num_actions = len(_direction_deltas)\n",
    "\n",
    "    def __init__(self,\n",
    "                 reward_grid,\n",
    "                 terminal_mask,\n",
    "                 obstacle_mask,\n",
    "                 action_probabilities,\n",
    "                 no_action_probability):\n",
    "\n",
    "        self._reward_grid = reward_grid\n",
    "        self._terminal_mask = terminal_mask\n",
    "        self._obstacle_mask = obstacle_mask\n",
    "        self._T = self._create_transition_matrix(\n",
    "            action_probabilities,\n",
    "            no_action_probability,\n",
    "            obstacle_mask\n",
    "        )\n",
    "\n",
    "    @property\n",
    "    def shape(self):\n",
    "        return self._reward_grid.shape\n",
    "\n",
    "    @property\n",
    "    def size(self):\n",
    "        return self._reward_grid.size\n",
    "\n",
    "    @property\n",
    "    def reward_grid(self):\n",
    "        return self._reward_grid\n",
    "\n",
    "    def run_value_iterations(self, discount=1.0,\n",
    "                             iterations=10):\n",
    "        utility_grids, policy_grids = self._init_utility_policy_storage(iterations)\n",
    "\n",
    "        utility_grid = np.zeros_like(self._reward_grid)\n",
    "        for i in range(iterations):\n",
    "            utility_grid = self._value_iteration(utility_grid=utility_grid)\n",
    "            policy_grids[:, :, i] = self.best_policy(utility_grid)\n",
    "            utility_grids[:, :, i] = utility_grid\n",
    "        return policy_grids, utility_grids\n",
    "\n",
    "    def run_policy_iterations(self, discount=1.0,\n",
    "                              iterations=10):\n",
    "        utility_grids, policy_grids = self._init_utility_policy_storage(iterations)\n",
    "\n",
    "        policy_grid = np.random.randint(0, self._num_actions,\n",
    "                                        self.shape)\n",
    "        utility_grid = self._reward_grid.copy()\n",
    "\n",
    "        for i in range(iterations):\n",
    "            policy_grid, utility_grid = self._policy_iteration(\n",
    "                policy_grid=policy_grid,\n",
    "                utility_grid=utility_grid\n",
    "            )\n",
    "            policy_grids[:, :, i] = policy_grid\n",
    "            utility_grids[:, :, i] = utility_grid\n",
    "        return policy_grids, utility_grids\n",
    "\n",
    "    def generate_experience(self, current_state_idx, action_idx):\n",
    "        sr, sc = self.grid_indices_to_coordinates(current_state_idx)\n",
    "        next_state_probs = self._T[sr, sc, action_idx, :, :].flatten()\n",
    "\n",
    "        next_state_idx = np.random.choice(np.arange(next_state_probs.size),\n",
    "                                          p=next_state_probs)\n",
    "\n",
    "        return (next_state_idx,\n",
    "                self._reward_grid.flatten()[next_state_idx],\n",
    "                self._terminal_mask.flatten()[next_state_idx])\n",
    "\n",
    "    def grid_indices_to_coordinates(self, indices=None):\n",
    "        if indices is None:\n",
    "            indices = np.arange(self.size)\n",
    "        return np.unravel_index(indices, self.shape)\n",
    "\n",
    "    def grid_coordinates_to_indices(self, coordinates=None):\n",
    "        # Annoyingly, this doesn't work for negative indices.\n",
    "        # The mode='wrap' parameter only works on positive indices.\n",
    "        if coordinates is None:\n",
    "            return np.arange(self.size)\n",
    "        return np.ravel_multi_index(coordinates, self.shape)\n",
    "\n",
    "    def best_policy(self, utility_grid):\n",
    "        M, N = self.shape\n",
    "        return np.argmax((utility_grid.reshape((1, 1, 1, M, N)) * self._T)\n",
    "                         .sum(axis=-1).sum(axis=-1), axis=2)\n",
    "\n",
    "    def _init_utility_policy_storage(self, depth):\n",
    "        M, N = self.shape\n",
    "        utility_grids = np.zeros((M, N, depth))\n",
    "        policy_grids = np.zeros_like(utility_grids)\n",
    "        return utility_grids, policy_grids\n",
    "\n",
    "    def _create_transition_matrix(self,\n",
    "                                  action_probabilities,\n",
    "                                  no_action_probability,\n",
    "                                  obstacle_mask):\n",
    "        M, N = self.shape\n",
    "\n",
    "        T = np.zeros((M, N, self._num_actions, M, N))\n",
    "\n",
    "        r0, c0 = self.grid_indices_to_coordinates()\n",
    "\n",
    "        T[r0, c0, :, r0, c0] += no_action_probability\n",
    "\n",
    "        for action in range(self._num_actions):\n",
    "            for offset, P in action_probabilities:\n",
    "                direction = (action + offset) % self._num_actions\n",
    "\n",
    "                dr, dc = self._direction_deltas[direction]\n",
    "                r1 = np.clip(r0 + dr, 0, M - 1)\n",
    "                c1 = np.clip(c0 + dc, 0, N - 1)\n",
    "\n",
    "                temp_mask = obstacle_mask[r1, c1].flatten()\n",
    "                r1[temp_mask] = r0[temp_mask]\n",
    "                c1[temp_mask] = c0[temp_mask]\n",
    "\n",
    "                T[r0, c0, action, r1, c1] += P\n",
    "\n",
    "        terminal_locs = np.where(self._terminal_mask.flatten())[0]\n",
    "        T[r0[terminal_locs], c0[terminal_locs], :, :, :] = 0\n",
    "        return T\n",
    "\n",
    "    def _value_iteration(self, utility_grid, discount=1.0):\n",
    "        out = np.zeros_like(utility_grid)\n",
    "        M, N = self.shape\n",
    "        for i in range(M):\n",
    "            for j in range(N):\n",
    "                out[i, j] = self._calculate_utility((i, j),\n",
    "                                                    discount,\n",
    "                                                    utility_grid)\n",
    "        return out\n",
    "\n",
    "    def _policy_iteration(self, *, utility_grid,\n",
    "                          policy_grid, discount=1.0):\n",
    "        r, c = self.grid_indices_to_coordinates()\n",
    "\n",
    "        M, N = self.shape\n",
    "\n",
    "        utility_grid = (\n",
    "            self._reward_grid +\n",
    "            discount * ((utility_grid.reshape((1, 1, 1, M, N)) * self._T)\n",
    "                        .sum(axis=-1).sum(axis=-1))[r, c, policy_grid.flatten()]\n",
    "            .reshape(self.shape)\n",
    "        )\n",
    "\n",
    "        utility_grid[self._terminal_mask] = self._reward_grid[self._terminal_mask]\n",
    "\n",
    "        return self.best_policy(utility_grid), utility_grid\n",
    "\n",
    "    def _calculate_utility(self, loc, discount, utility_grid):\n",
    "        if self._terminal_mask[loc]:\n",
    "            return self._reward_grid[loc]\n",
    "        row, col = loc\n",
    "        return np.max(\n",
    "            discount * np.sum(\n",
    "                np.sum(self._T[row, col, :, :, :] * utility_grid,\n",
    "                       axis=-1),\n",
    "                axis=-1)\n",
    "        ) + self._reward_grid[loc]\n",
    "\n",
    "    def plot_policy(self, utility_grid, policy_grid=None):\n",
    "        if policy_grid is None:\n",
    "            policy_grid = self.best_policy(utility_grid)\n",
    "        markers = \"^>v<\"\n",
    "        marker_size = 100 // np.max(policy_grid.shape)\n",
    "        marker_edge_width = marker_size // 10\n",
    "        marker_fill_color = 'w'\n",
    "\n",
    "        no_action_mask = self._terminal_mask | self._obstacle_mask\n",
    "\n",
    "        utility_normalized = (utility_grid - utility_grid.min()) / \\\n",
    "                             (utility_grid.max() - utility_grid.min())\n",
    "\n",
    "        utility_normalized = (255*utility_normalized).astype(np.uint8)\n",
    "\n",
    "        utility_rgb = cv2.applyColorMap(utility_normalized, cv2.COLORMAP_JET)\n",
    "        for i in range(3):\n",
    "            channel = utility_rgb[:, :, i]\n",
    "            channel[self._obstacle_mask] = 0\n",
    "\n",
    "        plt.imshow(utility_rgb[:, :, ::-1], interpolation='none')\n",
    "            \n",
    "        for i, marker in enumerate(markers):\n",
    "            y, x = np.where((policy_grid == i) & np.logical_not(no_action_mask))\n",
    "            plt.plot(x, y, marker, ms=marker_size, mew=marker_edge_width, color=marker_fill_color)\n",
    "\n",
    "        y, x = np.where(self._terminal_mask)\n",
    "        plt.plot(x, y, 'o', ms=marker_size, mew=marker_edge_width, color=marker_fill_color)\n",
    "\n",
    "        tick_step_options = np.array([1, 2, 5, 10, 20, 50, 100])\n",
    "        tick_step = np.max(policy_grid.shape)/8\n",
    "        best_option = np.argmin(np.abs(np.log(tick_step) - np.log(tick_step_options)))\n",
    "        tick_step = tick_step_options[best_option]\n",
    "        plt.xticks(np.arange(0, policy_grid.shape[1] - 0.5, tick_step))\n",
    "        plt.yticks(np.arange(0, policy_grid.shape[0] - 0.5, tick_step))\n",
    "        plt.xlim([-0.5, policy_grid.shape[0]-0.5])\n",
    "        plt.xlim([-0.5, policy_grid.shape[1]-0.5])"
   ]
  },
  {
   "cell_type": "markdown",
   "metadata": {},
   "source": [
    "Now let's run our first toy example. To make it easier, let's use a 2x2 grid.\n",
    "\n",
    "The game starts at the left bottom corner.\n",
    "\n",
    "The end is the top right corner."
   ]
  },
  {
   "cell_type": "markdown",
   "metadata": {},
   "source": [
    "## Setting a 3x3 game with One Obstacle"
   ]
  },
  {
   "cell_type": "code",
   "execution_count": 3,
   "metadata": {},
   "outputs": [],
   "source": [
    "shape = (3, 3)\n",
    "goal = (0, 2)\n",
    "trap = ((1, 1))\n",
    "obstacle = (1, 1)\n",
    "start = (-3, 0)\n",
    "default_reward = -0.1\n",
    "goal_reward = 2\n",
    "trap_reward = -1\n",
    "\n",
    "reward_grid = np.zeros(shape) + default_reward\n",
    "reward_grid[goal] = goal_reward\n",
    "reward_grid[trap] = trap_reward\n",
    "reward_grid[obstacle] = 1\n",
    "\n",
    "terminal_mask = np.zeros_like(reward_grid, dtype=np.bool)\n",
    "terminal_mask[goal] = True\n",
    "terminal_mask[trap] = False\n",
    "\n",
    "obstacle_mask = np.zeros_like(reward_grid, dtype=np.bool)\n",
    "obstacle_mask[1, 1] = True"
   ]
  },
  {
   "cell_type": "markdown",
   "metadata": {},
   "source": [
    "Below we just want to show how the game look like"
   ]
  },
  {
   "cell_type": "code",
   "execution_count": 4,
   "metadata": {},
   "outputs": [
    {
     "data": {
      "text/plain": [
       "array([[-0.1, -0.1,  2. ],\n",
       "       [-0.1,  1. , -0.1],\n",
       "       [-0.1, -0.1, -0.1]])"
      ]
     },
     "execution_count": 4,
     "metadata": {},
     "output_type": "execute_result"
    }
   ],
   "source": [
    "reward_grid"
   ]
  },
  {
   "cell_type": "code",
   "execution_count": 5,
   "metadata": {},
   "outputs": [
    {
     "data": {
      "text/plain": [
       "array([[False, False,  True],\n",
       "       [False, False, False],\n",
       "       [False, False, False]], dtype=bool)"
      ]
     },
     "execution_count": 5,
     "metadata": {},
     "output_type": "execute_result"
    }
   ],
   "source": [
    "terminal_mask"
   ]
  },
  {
   "cell_type": "code",
   "execution_count": 6,
   "metadata": {},
   "outputs": [
    {
     "data": {
      "text/plain": [
       "array([[False, False, False],\n",
       "       [False,  True, False],\n",
       "       [False, False, False]], dtype=bool)"
      ]
     },
     "execution_count": 6,
     "metadata": {},
     "output_type": "execute_result"
    }
   ],
   "source": [
    "obstacle_mask"
   ]
  },
  {
   "cell_type": "code",
   "execution_count": 7,
   "metadata": {},
   "outputs": [
    {
     "data": {
      "text/plain": [
       "<matplotlib.image.AxesImage at 0x8501930>"
      ]
     },
     "execution_count": 7,
     "metadata": {},
     "output_type": "execute_result"
    },
    {
     "data": {
      "image/png": "[encoded data removed]",
      "text/plain": [
       "<matplotlib.figure.Figure at 0x84b7970>"
      ]
     },
     "metadata": {},
     "output_type": "display_data"
    }
   ],
   "source": [
    "plt.figure(1)\n",
    "plt.grid('on')\n",
    "nrows, ncols =shape\n",
    "ax = plt.gca()\n",
    "ax.set_xticks(np.arange(0.5, nrows, 1))\n",
    "ax.set_yticks(np.arange(0.5, ncols, 1))\n",
    "ax.set_yticklabels([])\n",
    "ax.set_xticklabels([])\n",
    "plt.imshow(obstacle_mask*-1, cmap='gray', interpolation='nearest')"
   ]
  },
  {
   "cell_type": "code",
   "execution_count": 8,
   "metadata": {},
   "outputs": [],
   "source": [
    "gw = GridWorldMDP(reward_grid=reward_grid,\n",
    "                     obstacle_mask=obstacle_mask,\n",
    "                     terminal_mask=terminal_mask,\n",
    "                     action_probabilities=[\n",
    "                         (-1, 0.1),\n",
    "                         (0, 0.8),\n",
    "                         (1, 0.1),\n",
    "                     ],\n",
    "                     no_action_probability=0.0)\n",
    "mdp_solvers = {'Value Iteration': gw.run_value_iterations,\n",
    "                'Policy Iteration': gw.run_policy_iterations}"
   ]
  },
  {
   "cell_type": "markdown",
   "metadata": {},
   "source": [
    "Now we print the results of our policy and utility."
   ]
  },
  {
   "cell_type": "code",
   "execution_count": 9,
   "metadata": {},
   "outputs": [
    {
     "name": "stdout",
     "output_type": "stream",
     "text": [
      "Final result of Value Iteration:\n",
      "[[ 1.  1.  0.]\n",
      " [ 0.  0.  0.]\n",
      " [ 0.  1.  0.]]\n",
      "[[ 1.73437499  1.875       2.        ]\n",
      " [ 1.60937497  2.84843749  1.875     ]\n",
      " [ 1.49826381  1.60937497  1.73437499]]\n",
      "Final result of Policy Iteration:\n",
      "[[ 1.  1.  0.]\n",
      " [ 0.  0.  0.]\n",
      " [ 0.  1.  0.]]\n",
      "[[ 1.73437499  1.875       2.        ]\n",
      " [ 1.60937497  2.84843749  1.875     ]\n",
      " [ 1.49826381  1.60937497  1.73437499]]\n"
     ]
    }
   ],
   "source": [
    "for solver_name, solver_fn in mdp_solvers.items():\n",
    "        print('Final result of {}:'.format(solver_name))\n",
    "        policy_grids, utility_grids = solver_fn(iterations=25, discount=0.5)\n",
    "        print(policy_grids[:, :, -1])\n",
    "        print(utility_grids[:, :, -1])"
   ]
  },
  {
   "cell_type": "markdown",
   "metadata": {},
   "source": [
    "Plotting the final result of this toy example."
   ]
  },
  {
   "cell_type": "code",
   "execution_count": 10,
   "metadata": {},
   "outputs": [
    {
     "data": {
      "image/png": "[encoded data removed]",
      "text/plain": [
       "<matplotlib.figure.Figure at 0x8501790>"
      ]
     },
     "metadata": {},
     "output_type": "display_data"
    }
   ],
   "source": [
    "plt.figure(figsize=(5,5))\n",
    "ax = plt.gca()\n",
    "ax.set_yticklabels([])\n",
    "ax.set_xticklabels([])\n",
    "gw.plot_policy(utility_grids[:, :, -1])\n",
    "plt.show()"
   ]
  },
  {
   "cell_type": "markdown",
   "metadata": {},
   "source": [
    "Therefore, there are two possible solutions. Starting from the bottom, we can either start moving right or up and we will avoid the obstacle and reach the goal with the same number of steps."
   ]
  },
  {
   "cell_type": "markdown",
   "metadata": {},
   "source": [
    "## Setting a 5x5 game with Two Obstacles"
   ]
  },
  {
   "cell_type": "code",
   "execution_count": 11,
   "metadata": {},
   "outputs": [],
   "source": [
    "shape = (5, 5)\n",
    "goal = (0, 4)\n",
    "trap = ((1,1))\n",
    "obstacle1 = (1,1)\n",
    "obstacle2 = (3,3)\n",
    "start = (-4, 0)\n",
    "default_reward = -0.1\n",
    "goal_reward = 2\n",
    "trap_reward = -1\n",
    "\n",
    "reward_grid = np.zeros(shape) + default_reward\n",
    "reward_grid[goal] = goal_reward\n",
    "reward_grid[trap] = trap_reward\n",
    "reward_grid[obstacle1] = 1\n",
    "reward_grid[obstacle2] = 1\n",
    "\n",
    "terminal_mask = np.zeros_like(reward_grid, dtype=np.bool)\n",
    "terminal_mask[goal] = True\n",
    "terminal_mask[trap] = False\n",
    "\n",
    "obstacle_mask = np.zeros_like(reward_grid, dtype=np.bool)\n",
    "obstacle_mask[obstacle1] = True\n",
    "obstacle_mask[obstacle2] = True"
   ]
  },
  {
   "cell_type": "code",
   "execution_count": 12,
   "metadata": {},
   "outputs": [
    {
     "data": {
      "text/plain": [
       "array([[-0.1, -0.1, -0.1, -0.1,  2. ],\n",
       "       [-0.1,  1. , -0.1, -0.1, -0.1],\n",
       "       [-0.1, -0.1, -0.1, -0.1, -0.1],\n",
       "       [-0.1, -0.1, -0.1,  1. , -0.1],\n",
       "       [-0.1, -0.1, -0.1, -0.1, -0.1]])"
      ]
     },
     "execution_count": 12,
     "metadata": {},
     "output_type": "execute_result"
    }
   ],
   "source": [
    "reward_grid"
   ]
  },
  {
   "cell_type": "code",
   "execution_count": 13,
   "metadata": {},
   "outputs": [
    {
     "data": {
      "text/plain": [
       "array([[False, False, False, False,  True],\n",
       "       [False, False, False, False, False],\n",
       "       [False, False, False, False, False],\n",
       "       [False, False, False, False, False],\n",
       "       [False, False, False, False, False]], dtype=bool)"
      ]
     },
     "execution_count": 13,
     "metadata": {},
     "output_type": "execute_result"
    }
   ],
   "source": [
    "terminal_mask"
   ]
  },
  {
   "cell_type": "code",
   "execution_count": 14,
   "metadata": {},
   "outputs": [
    {
     "data": {
      "text/plain": [
       "array([[False, False, False, False, False],\n",
       "       [False,  True, False, False, False],\n",
       "       [False, False, False, False, False],\n",
       "       [False, False, False,  True, False],\n",
       "       [False, False, False, False, False]], dtype=bool)"
      ]
     },
     "execution_count": 14,
     "metadata": {},
     "output_type": "execute_result"
    }
   ],
   "source": [
    "obstacle_mask"
   ]
  },
  {
   "cell_type": "code",
   "execution_count": 15,
   "metadata": {},
   "outputs": [
    {
     "data": {
      "text/plain": [
       "<matplotlib.image.AxesImage at 0x8606a70>"
      ]
     },
     "execution_count": 15,
     "metadata": {},
     "output_type": "execute_result"
    },
    {
     "data": {
      "image/png": "[encoded data removed]",
      "text/plain": [
       "<matplotlib.figure.Figure at 0x84b71b0>"
      ]
     },
     "metadata": {},
     "output_type": "display_data"
    }
   ],
   "source": [
    "plt.figure(1)\n",
    "plt.grid('on')\n",
    "nrows, ncols =shape\n",
    "ax = plt.gca()\n",
    "ax.set_xticks(np.arange(0.5, nrows, 1))\n",
    "ax.set_yticks(np.arange(0.5, ncols, 1))\n",
    "ax.set_yticklabels([])\n",
    "ax.set_xticklabels([])\n",
    "plt.imshow(obstacle_mask*-1, cmap='gray', interpolation='nearest')"
   ]
  },
  {
   "cell_type": "code",
   "execution_count": 16,
   "metadata": {},
   "outputs": [],
   "source": [
    "gw = GridWorldMDP(reward_grid=reward_grid,\n",
    "                     obstacle_mask=obstacle_mask,\n",
    "                     terminal_mask=terminal_mask,\n",
    "                     action_probabilities=[\n",
    "                         (-1, 0.1),\n",
    "                         (0, 0.8),\n",
    "                         (1, 0.1),\n",
    "                     ],\n",
    "                     no_action_probability=0.0)\n",
    "mdp_solvers = {'Value Iteration': gw.run_value_iterations,\n",
    "                'Policy Iteration': gw.run_policy_iterations}"
   ]
  },
  {
   "cell_type": "code",
   "execution_count": 17,
   "metadata": {},
   "outputs": [
    {
     "name": "stdout",
     "output_type": "stream",
     "text": [
      "Final result of Value Iteration:\n",
      "[[ 1.  1.  1.  1.  0.]\n",
      " [ 0.  1.  0.  0.  0.]\n",
      " [ 0.  1.  0.  1.  0.]\n",
      " [ 0.  0.  0.  0.  0.]\n",
      " [ 1.  1.  1.  1.  0.]]\n",
      "[[ 1.45507297  1.59570002  1.72070027  1.85939664  2.        ]\n",
      " [ 1.33006887  2.58286934  1.61113005  1.73456992  1.85939664]\n",
      " [ 1.22049316  1.3439692   1.48441235  1.61113005  1.72070027]\n",
      " [ 1.10935988  1.22049255  1.3439692   2.58286934  1.59570002]\n",
      " [ 0.99820028  1.10935988  1.22049316  1.33006887  1.45507297]]\n",
      "Final result of Policy Iteration:\n",
      "[[ 1.  1.  1.  1.  0.]\n",
      " [ 0.  1.  0.  1.  0.]\n",
      " [ 0.  1.  1.  1.  0.]\n",
      " [ 0.  1.  0.  0.  0.]\n",
      " [ 1.  1.  1.  1.  0.]]\n",
      "[[ 1.45507298  1.59570002  1.72070027  1.85939664  2.        ]\n",
      " [ 1.3300689   2.58286935  1.61113005  1.73456992  1.85939664]\n",
      " [ 1.22049321  1.34396926  1.48441236  1.61113005  1.72070027]\n",
      " [ 1.10935999  1.22049268  1.34396926  2.58286935  1.59570002]\n",
      " [ 0.99820071  1.1093601   1.22049325  1.33006891  1.45507299]]\n"
     ]
    }
   ],
   "source": [
    "for solver_name, solver_fn in mdp_solvers.items():\n",
    "        print('Final result of {}:'.format(solver_name))\n",
    "        policy_grids, utility_grids = solver_fn(iterations=25, discount=0.5)\n",
    "        print(policy_grids[:, :, -1])\n",
    "        print(utility_grids[:, :, -1])"
   ]
  },
  {
   "cell_type": "code",
   "execution_count": 18,
   "metadata": {},
   "outputs": [
    {
     "data": {
      "image/png": "[encoded data removed]",
      "text/plain": [
       "<matplotlib.figure.Figure at 0x85dfa50>"
      ]
     },
     "metadata": {},
     "output_type": "display_data"
    }
   ],
   "source": [
    "plt.figure(figsize=(5,5))\n",
    "ax = plt.gca()\n",
    "ax.set_yticklabels([])\n",
    "ax.set_xticklabels([])\n",
    "gw.plot_policy(utility_grids[:, :, -1])\n",
    "plt.show()"
   ]
  },
  {
   "cell_type": "markdown",
   "metadata": {},
   "source": [
    "Therefore, the best solution starting from the bottom, we should start moving up until we reach the limit, and then we move straight right to reach the goal."
   ]
  }
 ],
 "metadata": {
  "kernelspec": {
   "display_name": "Python 3 (Spyder)",
   "language": "python3",
   "name": "python3"
  },
  "language_info": {
   "codemirror_mode": {
    "name": "ipython",
    "version": 3
   },
   "file_extension": ".py",
   "mimetype": "text/x-python",
   "name": "python",
   "nbconvert_exporter": "python",
   "pygments_lexer": "ipython3",
   "version": "3.6.4"
  }
 },
 "nbformat": 4,
 "nbformat_minor": 2
}
